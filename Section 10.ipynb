{
 "cells": [
  {
   "cell_type": "markdown",
   "id": "63144a52",
   "metadata": {},
   "source": [
    "### Scetion 10: ERRORS AND EXCEPTION HANDLING"
   ]
  },
  {
   "cell_type": "code",
   "execution_count": 1,
   "id": "de232e7b",
   "metadata": {},
   "outputs": [],
   "source": [
    "def add(n1,n2):\n",
    "    print(n1 + n2)"
   ]
  },
  {
   "cell_type": "code",
   "execution_count": 2,
   "id": "ade29a2f",
   "metadata": {},
   "outputs": [
    {
     "name": "stdout",
     "output_type": "stream",
     "text": [
      "30\n"
     ]
    }
   ],
   "source": [
    "add(10,20)"
   ]
  },
  {
   "cell_type": "code",
   "execution_count": 3,
   "id": "5a2e166f",
   "metadata": {},
   "outputs": [],
   "source": [
    "number1 = 10"
   ]
  },
  {
   "cell_type": "code",
   "execution_count": 4,
   "id": "6d7eb33f",
   "metadata": {},
   "outputs": [
    {
     "name": "stdout",
     "output_type": "stream",
     "text": [
      "Please provide the number: 2\n"
     ]
    }
   ],
   "source": [
    "number2  = input (\"Please provide the number: \")"
   ]
  },
  {
   "cell_type": "code",
   "execution_count": 5,
   "id": "082dd0cd",
   "metadata": {},
   "outputs": [
    {
     "ename": "TypeError",
     "evalue": "unsupported operand type(s) for +: 'int' and 'str'",
     "output_type": "error",
     "traceback": [
      "\u001b[1;31m---------------------------------------------------------------------------\u001b[0m",
      "\u001b[1;31mTypeError\u001b[0m                                 Traceback (most recent call last)",
      "\u001b[1;32m<ipython-input-5-0746b31b4e0b>\u001b[0m in \u001b[0;36m<module>\u001b[1;34m\u001b[0m\n\u001b[1;32m----> 1\u001b[1;33m \u001b[0madd\u001b[0m\u001b[1;33m(\u001b[0m\u001b[0mnumber1\u001b[0m\u001b[1;33m,\u001b[0m\u001b[0mnumber2\u001b[0m\u001b[1;33m)\u001b[0m\u001b[1;33m\u001b[0m\u001b[1;33m\u001b[0m\u001b[0m\n\u001b[0m\u001b[0;32m      2\u001b[0m \u001b[0mprint\u001b[0m\u001b[1;33m(\u001b[0m\u001b[1;34m\"Something Haappened\"\u001b[0m\u001b[1;33m)\u001b[0m\u001b[1;33m\u001b[0m\u001b[1;33m\u001b[0m\u001b[0m\n",
      "\u001b[1;32m<ipython-input-1-1572436ffd1c>\u001b[0m in \u001b[0;36madd\u001b[1;34m(n1, n2)\u001b[0m\n\u001b[0;32m      1\u001b[0m \u001b[1;32mdef\u001b[0m \u001b[0madd\u001b[0m\u001b[1;33m(\u001b[0m\u001b[0mn1\u001b[0m\u001b[1;33m,\u001b[0m\u001b[0mn2\u001b[0m\u001b[1;33m)\u001b[0m\u001b[1;33m:\u001b[0m\u001b[1;33m\u001b[0m\u001b[1;33m\u001b[0m\u001b[0m\n\u001b[1;32m----> 2\u001b[1;33m     \u001b[0mprint\u001b[0m\u001b[1;33m(\u001b[0m\u001b[0mn1\u001b[0m \u001b[1;33m+\u001b[0m \u001b[0mn2\u001b[0m\u001b[1;33m)\u001b[0m\u001b[1;33m\u001b[0m\u001b[1;33m\u001b[0m\u001b[0m\n\u001b[0m",
      "\u001b[1;31mTypeError\u001b[0m: unsupported operand type(s) for +: 'int' and 'str'"
     ]
    }
   ],
   "source": [
    "add(number1,number2)\n",
    "print(\"Something Haappened\")"
   ]
  },
  {
   "cell_type": "markdown",
   "id": "f3dff08d",
   "metadata": {},
   "source": [
    "##### Try, Except and Else"
   ]
  },
  {
   "cell_type": "code",
   "execution_count": 6,
   "id": "b842ce9e",
   "metadata": {},
   "outputs": [],
   "source": [
    "try:\n",
    "    # WANT TO ATTEMPT THIS CODE\n",
    "    # MAY HAVE ERROR\n",
    "    result = 10 + 10\n",
    "except:\n",
    "    print(\"Hey it looks like you aren't adding correctly\")"
   ]
  },
  {
   "cell_type": "code",
   "execution_count": 7,
   "id": "64cb7b71",
   "metadata": {},
   "outputs": [
    {
     "data": {
      "text/plain": [
       "20"
      ]
     },
     "execution_count": 7,
     "metadata": {},
     "output_type": "execute_result"
    }
   ],
   "source": [
    "result"
   ]
  },
  {
   "cell_type": "code",
   "execution_count": 8,
   "id": "d1341842",
   "metadata": {},
   "outputs": [
    {
     "name": "stdout",
     "output_type": "stream",
     "text": [
      "Hey it looks like you aren't adding correctly\n"
     ]
    }
   ],
   "source": [
    "try:\n",
    "    # WANT TO ATTEMPT THIS CODE\n",
    "    # MAY HAVE ERROR\n",
    "    result = 10 + '10'\n",
    "except:\n",
    "    print(\"Hey it looks like you aren't adding correctly\")"
   ]
  },
  {
   "cell_type": "code",
   "execution_count": 9,
   "id": "d0690696",
   "metadata": {},
   "outputs": [
    {
     "name": "stdout",
     "output_type": "stream",
     "text": [
      "Add went well!\n",
      "20\n"
     ]
    }
   ],
   "source": [
    "try:\n",
    "    # WANT TO ATTEMPT THIS CODE\n",
    "    # MAY HAVE ERROR\n",
    "    result = 10 + 10\n",
    "except:\n",
    "    print(\"Hey it looks like you aren't adding correctly\")\n",
    "else:\n",
    "    print(\"Add went well!\")\n",
    "    print(result)"
   ]
  },
  {
   "cell_type": "markdown",
   "id": "eb1ae057",
   "metadata": {},
   "source": [
    "##### Try, Except and Finally"
   ]
  },
  {
   "cell_type": "code",
   "execution_count": 10,
   "id": "8b0c1c2a",
   "metadata": {},
   "outputs": [
    {
     "name": "stdout",
     "output_type": "stream",
     "text": [
      "I always run\n"
     ]
    }
   ],
   "source": [
    "try:\n",
    "    f = open('testfile','w')\n",
    "    f.write(\"Write a test line\")\n",
    "except TypeError:\n",
    "    print('there was a type error')\n",
    "except OSError:\n",
    "    print('Hey you have an OS Error')\n",
    "finally:\n",
    "    print('I always run')"
   ]
  },
  {
   "cell_type": "code",
   "execution_count": 11,
   "id": "18ecee87",
   "metadata": {},
   "outputs": [
    {
     "name": "stdout",
     "output_type": "stream",
     "text": [
      "Hey you have an OS Error\n",
      "I always run\n"
     ]
    }
   ],
   "source": [
    "try:\n",
    "    f = open('testfile','r')\n",
    "    f.write(\"Write a test line\")\n",
    "except TypeError:\n",
    "    print('there was a type error')\n",
    "except OSError:\n",
    "    print('Hey you have an OS Error')\n",
    "finally:\n",
    "    print('I always run')"
   ]
  },
  {
   "cell_type": "code",
   "execution_count": 12,
   "id": "1c848c90",
   "metadata": {},
   "outputs": [
    {
     "name": "stdout",
     "output_type": "stream",
     "text": [
      "All other Exceptions\n",
      "I always run\n"
     ]
    }
   ],
   "source": [
    "try:\n",
    "    f = open('testfile','r')\n",
    "    f.write(\"Write a test line\")\n",
    "except:\n",
    "    print('All other Exceptions')\n",
    "finally:\n",
    "    print('I always run')"
   ]
  },
  {
   "cell_type": "code",
   "execution_count": 13,
   "id": "f076bc31",
   "metadata": {},
   "outputs": [],
   "source": [
    "def ask_for_int():\n",
    "    try:\n",
    "        result = int(input('Please provide the number: '))\n",
    "    except:\n",
    "        print('Whoop! That is not a number')\n",
    "    finally:\n",
    "        print('End of try/except/finally')"
   ]
  },
  {
   "cell_type": "code",
   "execution_count": 14,
   "id": "e19ddf96",
   "metadata": {},
   "outputs": [
    {
     "name": "stdout",
     "output_type": "stream",
     "text": [
      "Please provide the number: q\n",
      "Whoop! That is not a number\n",
      "End of try/except/finally\n"
     ]
    }
   ],
   "source": [
    "ask_for_int()"
   ]
  },
  {
   "cell_type": "code",
   "execution_count": 15,
   "id": "e0d1011f",
   "metadata": {},
   "outputs": [
    {
     "name": "stdout",
     "output_type": "stream",
     "text": [
      "Please provide the number: 2\n",
      "End of try/except/finally\n"
     ]
    }
   ],
   "source": [
    "ask_for_int()"
   ]
  },
  {
   "cell_type": "code",
   "execution_count": 16,
   "id": "d4100882",
   "metadata": {},
   "outputs": [],
   "source": [
    "def ask_for_int():\n",
    "    \n",
    "    while True:\n",
    "        \n",
    "        try:\n",
    "            result = int(input('Please provide the number: '))\n",
    "        except:\n",
    "            print('Whoop! That is not a number')\n",
    "            continue\n",
    "        else:\n",
    "            print('Yes thankyou')\n",
    "            break\n",
    "            \n",
    "        finally:\n",
    "            print('End of try/except/finally')\n",
    "            print('I will always run at the end')"
   ]
  },
  {
   "cell_type": "code",
   "execution_count": 17,
   "id": "936b962e",
   "metadata": {},
   "outputs": [
    {
     "name": "stdout",
     "output_type": "stream",
     "text": [
      "Please provide the number: q\n",
      "Whoop! That is not a number\n",
      "End of try/except/finally\n",
      "I will always run at the end\n",
      "Please provide the number: 2\n",
      "Yes thankyou\n",
      "End of try/except/finally\n",
      "I will always run at the end\n"
     ]
    }
   ],
   "source": [
    "ask_for_int()"
   ]
  },
  {
   "cell_type": "code",
   "execution_count": 18,
   "id": "499cdeee",
   "metadata": {},
   "outputs": [],
   "source": [
    "def ask_for_int():\n",
    "    \n",
    "    while True:\n",
    "        \n",
    "        try:\n",
    "            result = int(input('Please provide the number: '))\n",
    "        except:\n",
    "            print('Whoop! That is not a number')\n",
    "            continue\n",
    "        else:\n",
    "            print('Yes thankyou')\n",
    "            break\n",
    "            \n",
    "        finally:\n",
    "            print('I am going to ask you again!')"
   ]
  },
  {
   "cell_type": "code",
   "execution_count": 19,
   "id": "529cb8b9",
   "metadata": {},
   "outputs": [
    {
     "name": "stdout",
     "output_type": "stream",
     "text": [
      "Please provide the number: t\n",
      "Whoop! That is not a number\n",
      "I am going to ask you again!\n",
      "Please provide the number: 4\n",
      "Yes thankyou\n",
      "I am going to ask you again!\n"
     ]
    }
   ],
   "source": [
    "ask_for_int()"
   ]
  },
  {
   "cell_type": "code",
   "execution_count": 20,
   "id": "2fefe8d4",
   "metadata": {},
   "outputs": [],
   "source": [
    "def ask_for_int():\n",
    "    \n",
    "    while True:\n",
    "        \n",
    "        try:\n",
    "            result = int(input('Please provide the number: '))\n",
    "        except:\n",
    "            print('Whoop! That is not a number')\n",
    "            continue\n",
    "        else:\n",
    "            print('Yes thankyou')\n",
    "            break\n",
    "            \n",
    "      "
   ]
  },
  {
   "cell_type": "code",
   "execution_count": 21,
   "id": "137f78fb",
   "metadata": {},
   "outputs": [
    {
     "name": "stdout",
     "output_type": "stream",
     "text": [
      "Please provide the number: u\n",
      "Whoop! That is not a number\n",
      "Please provide the number: 8\n",
      "Yes thankyou\n"
     ]
    }
   ],
   "source": [
    "ask_for_int()"
   ]
  }
 ],
 "metadata": {
  "kernelspec": {
   "display_name": "Python 3",
   "language": "python",
   "name": "python3"
  },
  "language_info": {
   "codemirror_mode": {
    "name": "ipython",
    "version": 3
   },
   "file_extension": ".py",
   "mimetype": "text/x-python",
   "name": "python",
   "nbconvert_exporter": "python",
   "pygments_lexer": "ipython3",
   "version": "3.8.8"
  }
 },
 "nbformat": 4,
 "nbformat_minor": 5
}
